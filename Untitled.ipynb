{
 "cells": [
  {
   "cell_type": "markdown",
   "metadata": {},
   "source": [
    "#dfdfdf\n",
    "dfdfsdf\n",
    "dfdfdsfd\n",
    "fdfdsfds\n",
    "fdfdsf\n",
    "\n",
    "\n",
    "\n",
    "\n",
    "\n",
    "\n"
   ]
  },
  {
   "cell_type": "code",
   "execution_count": 9,
   "metadata": {},
   "outputs": [
    {
     "name": "stdout",
     "output_type": "stream",
     "text": [
      "total 760\r\n",
      "-rw-r--r--  1 Howard  staff    1914  4 21 15:46 Untitled-Copy1.ipynb\r\n",
      "-rw-r--r--  1 Howard  staff    1995  4 21 15:52 Untitled.ipynb\r\n",
      "-rw-r--r--@ 1 Howard  staff  378964  4 18 16:50 iOS 视频学习.pdf\r\n",
      "-rw-r--r--  1 Howard  staff       0  4 21 15:40 untitled.txt\r\n"
     ]
    }
   ],
   "source": [
    "ll"
   ]
  },
  {
   "cell_type": "code",
   "execution_count": 10,
   "metadata": {},
   "outputs": [
    {
     "name": "stdout",
     "output_type": "stream",
     "text": [
      "Untitled-Copy1.ipynb  iOS 视频学习.pdf\r\n",
      "Untitled.ipynb        untitled.txt\r\n"
     ]
    }
   ],
   "source": [
    "ls"
   ]
  },
  {
   "cell_type": "markdown",
   "metadata": {},
   "source": [
    "dfdfdfdfdsfdsf"
   ]
  },
  {
   "cell_type": "raw",
   "metadata": {},
   "source": [
    "dfdfdf\n"
   ]
  },
  {
   "cell_type": "code",
   "execution_count": null,
   "metadata": {
    "collapsed": true
   },
   "outputs": [],
   "source": []
  },
  {
   "cell_type": "code",
   "execution_count": null,
   "metadata": {
    "collapsed": true
   },
   "outputs": [],
   "source": []
  }
 ],
 "metadata": {
  "kernelspec": {
   "display_name": "Python 2",
   "language": "python",
   "name": "python2"
  },
  "language_info": {
   "codemirror_mode": {
    "name": "ipython",
    "version": 2
   },
   "file_extension": ".py",
   "mimetype": "text/x-python",
   "name": "python",
   "nbconvert_exporter": "python",
   "pygments_lexer": "ipython2",
   "version": "2.7.11"
  }
 },
 "nbformat": 4,
 "nbformat_minor": 2
}
